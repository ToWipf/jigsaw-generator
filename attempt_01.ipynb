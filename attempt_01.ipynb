{
 "cells": [
  {
   "cell_type": "markdown",
   "id": "541582df",
   "metadata": {},
   "source": [
    "# Jigsaw generation #1"
   ]
  },
  {
   "cell_type": "code",
   "execution_count": 1,
   "id": "6512a9b5",
   "metadata": {},
   "outputs": [],
   "source": [
    "import numpy as np\n",
    "\n",
    "from jigsaw import *\n",
    "from jigsaw.default import *\n",
    "from jigsaw.svg import *"
   ]
  },
  {
   "cell_type": "markdown",
   "id": "9777e468",
   "metadata": {},
   "source": [
    "## Simple 3x3"
   ]
  },
  {
   "cell_type": "code",
   "execution_count": 2,
   "id": "1fc477c9",
   "metadata": {},
   "outputs": [
    {
     "data": {
      "text/plain": [
       "array(['CENTERED_MEDIUM_MALE', 'CENTERED_MEDIUM_FEMALE',\n",
       "       'CENTERED_SMALL_MALE', 'CENTERED_SMALL_FEMALE'], dtype='<U22')"
      ]
     },
     "execution_count": 2,
     "metadata": {},
     "output_type": "execute_result"
    }
   ],
   "source": [
    "# Choose only centered edge types, two sizes\n",
    "edge_types = np.array([\n",
    "    CENTERED_SMALL_MALE,\n",
    "    CENTERED_MEDIUM_MALE,\n",
    "])\n",
    "\n",
    "# Automatically expand types to match combinations\n",
    "edge_types = expand_edge_types(edge_types, opposite, flip)\n",
    "\n",
    "# Show actual types\n",
    "edge_names[edge_types]"
   ]
  },
  {
   "cell_type": "code",
   "execution_count": 3,
   "id": "54781da6",
   "metadata": {},
   "outputs": [],
   "source": [
    "# Generate grid\n",
    "# TODO unique solution loop\n",
    "horizontal_edges, vertical_edges = build_random_grid(3, 3, edge_types)"
   ]
  },
  {
   "cell_type": "code",
   "execution_count": 4,
   "id": "10242cbb",
   "metadata": {},
   "outputs": [
    {
     "data": {
      "text/html": [
       "<div style=\"padding:1em\"><svg width=\"256\" height=\"256\" xmlns=\"http://www.w3.org/2000/svg\"><g transform=\"translate(32.0 32.0)\"><path fill=\"none\" stroke=\"black\" d=\"M 0.0 -16.0 L 0.0 0.0 L 0.0 64.0 L 0.0 128.0 L 0.0 192.0 L 0.0 208.0 M 64.0 -16.0 L 64.0 0.0 C 64.0 12.8, 60.8 12.8, 60.8 25.6 A 3.2 3.2 0 0 0 65.8745166004061 27.474516600406098 A 6.4 6.4 0 1 1 65.8745166004061 36.5254833995939 A 3.2 3.2 0 0 0 60.8 38.4 C 60.8 51.2, 64.0 51.2, 64.0 64.0 C 64.0 76.8, 60.8 76.8, 60.8 89.6 A 3.2 3.2 0 0 0 65.8745166004061 91.4745166004061 A 6.4 6.4 0 1 1 65.8745166004061 100.5254833995939 A 3.2 3.2 0 0 0 60.8 102.4 C 60.8 115.2, 64.0 115.2, 64.0 128.0 C 64.0 139.52, 59.52 139.52, 59.52 151.04 A 4.4799999999999995 4.4799999999999995 0 0 0 66.62432324056853 153.66432324056854 A 8.959999999999999 8.959999999999999 0 1 1 66.62432324056853 166.33567675943146 A 4.4799999999999995 4.4799999999999995 0 0 0 59.52 168.96 C 59.52 180.48, 64.0 180.48, 64.0 192.0 L 64.0 208.0 M 128.0 -16.0 L 128.0 0.0 C 128.0 12.8, 131.2 12.8, 131.2 25.6 A 3.2 3.2 0 0 1 126.1254833995939 27.474516600406098 A 6.4 6.4 0 1 0 126.1254833995939 36.5254833995939 A 3.2 3.2 0 0 1 131.2 38.4 C 131.2 51.2, 128.0 51.2, 128.0 64.0 C 128.0 76.8, 131.2 76.8, 131.2 89.6 A 3.2 3.2 0 0 1 126.1254833995939 91.4745166004061 A 6.4 6.4 0 1 0 126.1254833995939 100.5254833995939 A 3.2 3.2 0 0 1 131.2 102.4 C 131.2 115.2, 128.0 115.2, 128.0 128.0 C 128.0 140.8, 124.8 140.8, 124.8 153.6 A 3.2 3.2 0 0 0 129.87451660040608 155.4745166004061 A 6.4 6.4 0 1 1 129.87451660040608 164.5254833995939 A 3.2 3.2 0 0 0 124.8 166.4 C 124.8 179.2, 128.0 179.2, 128.0 192.0 L 128.0 208.0 M 192.0 -16.0 L 192.0 0.0 L 192.0 64.0 L 192.0 128.0 L 192.0 192.0 L 192.0 208.0 M -16.0 0.0 L 0.0 0.0 L 64.0 0.0 L 128.0 0.0 L 192.0 0.0 L 208.0 0.0 M -16.0 64.0 L 0.0 64.0 C 11.52 64.0, 11.52 68.48, 23.04 68.48 A 4.4799999999999995 4.4799999999999995 0 0 0 25.664323240568535 61.375676759431464 A 8.959999999999999 8.959999999999999 0 1 1 38.335676759431465 61.375676759431464 A 4.4799999999999995 4.4799999999999995 0 0 0 40.96 68.48 C 52.48 68.48, 52.48 64.0, 64.0 64.0 C 75.52 64.0, 75.52 68.48, 87.03999999999999 68.48 A 4.4799999999999995 4.4799999999999995 0 0 0 89.66432324056854 61.375676759431464 A 8.959999999999999 8.959999999999999 0 1 1 102.33567675943146 61.375676759431464 A 4.4799999999999995 4.4799999999999995 0 0 0 104.96000000000001 68.48 C 116.47999999999999 68.48, 116.47999999999999 64.0, 128.0 64.0 C 140.8 64.0, 140.8 60.8, 153.6 60.8 A 3.2 3.2 0 0 1 155.4745166004061 65.8745166004061 A 6.4 6.4 0 1 0 164.5254833995939 65.8745166004061 A 3.2 3.2 0 0 1 166.4 60.8 C 179.2 60.8, 179.2 64.0, 192.0 64.0 L 208.0 64.0 M -16.0 128.0 L 0.0 128.0 C 12.8 128.0, 12.8 124.8, 25.6 124.8 A 3.2 3.2 0 0 1 27.474516600406098 129.87451660040608 A 6.4 6.4 0 1 0 36.5254833995939 129.87451660040608 A 3.2 3.2 0 0 1 38.4 124.8 C 51.2 124.8, 51.2 128.0, 64.0 128.0 C 75.52 128.0, 75.52 132.48, 87.03999999999999 132.48 A 4.4799999999999995 4.4799999999999995 0 0 0 89.66432324056854 125.37567675943147 A 8.959999999999999 8.959999999999999 0 1 1 102.33567675943146 125.37567675943147 A 4.4799999999999995 4.4799999999999995 0 0 0 104.96000000000001 132.48 C 116.47999999999999 132.48, 116.47999999999999 128.0, 128.0 128.0 C 139.52 128.0, 139.52 132.48, 151.04 132.48 A 4.4799999999999995 4.4799999999999995 0 0 0 153.66432324056854 125.37567675943147 A 8.959999999999999 8.959999999999999 0 1 1 166.33567675943146 125.37567675943147 A 4.4799999999999995 4.4799999999999995 0 0 0 168.96 132.48 C 180.48 132.48, 180.48 128.0, 192.0 128.0 L 208.0 128.0 M -16.0 192.0 L 0.0 192.0 L 64.0 192.0 L 128.0 192.0 L 192.0 192.0 L 208.0 192.0\"/></g></svg><div>"
      ],
      "text/plain": [
       "<IPython.core.display.HTML object>"
      ]
     },
     "metadata": {},
     "output_type": "display_data"
    }
   ],
   "source": [
    "display_grid(horizontal_edges, vertical_edges)"
   ]
  },
  {
   "cell_type": "code",
   "execution_count": 5,
   "id": "4483e557",
   "metadata": {},
   "outputs": [],
   "source": [
    "pieces = grid_to_pieces(horizontal_edges, vertical_edges, opposite)\n",
    "pieces, C, N, count, canonical, accept, horizontal, vertical = prepare_solver_arguments(3, 3, pieces, flip, opposite, \"border\")"
   ]
  },
  {
   "cell_type": "code",
   "execution_count": 8,
   "id": "2d09549a",
   "metadata": {},
   "outputs": [],
   "source": [
    "for stack in iterate_solver(C, N, 3, 3, count, canonical, accept, horizontal, vertical):\n",
    "    break"
   ]
  },
  {
   "cell_type": "code",
   "execution_count": null,
   "id": "38824cc1",
   "metadata": {},
   "outputs": [],
   "source": []
  },
  {
   "cell_type": "code",
   "execution_count": null,
   "id": "7040031f",
   "metadata": {},
   "outputs": [],
   "source": []
  },
  {
   "cell_type": "markdown",
   "id": "eec5f848",
   "metadata": {},
   "source": [
    "## Pack as a single grid"
   ]
  },
  {
   "cell_type": "code",
   "execution_count": null,
   "id": "404736a8",
   "metadata": {},
   "outputs": [],
   "source": [
    "# TODO"
   ]
  }
 ],
 "metadata": {
  "kernelspec": {
   "display_name": "Python 3",
   "language": "python",
   "name": "python3"
  },
  "language_info": {
   "codemirror_mode": {
    "name": "ipython",
    "version": 3
   },
   "file_extension": ".py",
   "mimetype": "text/x-python",
   "name": "python",
   "nbconvert_exporter": "python",
   "pygments_lexer": "ipython3",
   "version": "3.9.0"
  }
 },
 "nbformat": 4,
 "nbformat_minor": 5
}

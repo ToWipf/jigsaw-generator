{
 "cells": [
  {
   "cell_type": "markdown",
   "id": "541582df",
   "metadata": {},
   "source": [
    "# Jigsaw generation #1"
   ]
  },
  {
   "cell_type": "code",
   "execution_count": 1,
   "id": "6512a9b5",
   "metadata": {},
   "outputs": [],
   "source": [
    "import numpy as np\n",
    "\n",
    "from IPython.core.display import HTML\n",
    "\n",
    "from jigsaw import *\n",
    "from jigsaw.default import *\n",
    "from jigsaw.svg import *"
   ]
  },
  {
   "cell_type": "markdown",
   "id": "9777e468",
   "metadata": {},
   "source": [
    "## Simple 3x3"
   ]
  },
  {
   "cell_type": "code",
   "execution_count": 2,
   "id": "1fc477c9",
   "metadata": {},
   "outputs": [
    {
     "data": {
      "text/plain": [
       "array(['CENTERED_MEDIUM_MALE', 'CENTERED_MEDIUM_FEMALE',\n",
       "       'CENTERED_SMALL_MALE', 'CENTERED_SMALL_FEMALE'], dtype='<U22')"
      ]
     },
     "execution_count": 2,
     "metadata": {},
     "output_type": "execute_result"
    }
   ],
   "source": [
    "# Choose only centered edge types, two sizes\n",
    "edge_types = np.array([\n",
    "    CENTERED_SMALL_MALE,\n",
    "    CENTERED_MEDIUM_MALE,\n",
    "])\n",
    "\n",
    "# Automatically expand types to match combinations\n",
    "edge_types = expand_edge_types(edge_types, opposite, flip)\n",
    "\n",
    "# Show actual types\n",
    "edge_names[edge_types]"
   ]
  },
  {
   "cell_type": "code",
   "execution_count": 3,
   "id": "54781da6",
   "metadata": {},
   "outputs": [],
   "source": [
    "# Generate grid\n",
    "# TODO unique solution loop\n",
    "horizontal_edges, vertical_edges = build_random_grid(3, 3, edge_types)"
   ]
  },
  {
   "cell_type": "code",
   "execution_count": 4,
   "id": "e1e3521b",
   "metadata": {},
   "outputs": [],
   "source": [
    "pieces = np.array([DOUBLE_SMALL_MALE, TWISTED_SMALL_FEMALE, CENTERED_SMALL_MALE, CENTERED_SMALL_MALE]).reshape(1, 1, 4)\n",
    "horizontal_edges, vertical_edges = pieces_to_grid(pieces, opposite)"
   ]
  },
  {
   "cell_type": "code",
   "execution_count": 5,
   "id": "41d66bc5",
   "metadata": {},
   "outputs": [
    {
     "data": {
      "text/plain": [
       "array(['DOUBLE_SMALL_MALE', 'TWISTED_SMALL_FEMALE', 'CENTERED_SMALL_MALE',\n",
       "       'CENTERED_SMALL_MALE'], dtype='<U22')"
      ]
     },
     "execution_count": 5,
     "metadata": {},
     "output_type": "execute_result"
    }
   ],
   "source": [
    "edge_names[grid_to_pieces(horizontal_edges, vertical_edges, opposite).reshape(4)]"
   ]
  },
  {
   "cell_type": "code",
   "execution_count": 6,
   "id": "86585349",
   "metadata": {},
   "outputs": [
    {
     "data": {
      "text/plain": [
       "array([['TWISTED_SMALL_FEMALE'],\n",
       "       ['CENTERED_SMALL_MALE']], dtype='<U22')"
      ]
     },
     "execution_count": 6,
     "metadata": {},
     "output_type": "execute_result"
    }
   ],
   "source": [
    "edge_names[vertical_edges]"
   ]
  },
  {
   "cell_type": "code",
   "execution_count": 7,
   "id": "a8b52d96",
   "metadata": {},
   "outputs": [
    {
     "data": {
      "text/plain": [
       "array([['CENTERED_SMALL_MALE', 'DOUBLE_SMALL_FEMALE']], dtype='<U22')"
      ]
     },
     "execution_count": 7,
     "metadata": {},
     "output_type": "execute_result"
    }
   ],
   "source": [
    "edge_names[horizontal_edges]"
   ]
  },
  {
   "cell_type": "code",
   "execution_count": 8,
   "id": "92139c85",
   "metadata": {},
   "outputs": [
    {
     "data": {
      "text/html": [
       "<div style=\"padding:5em\"><svg width=\"200\" height=\"200\" xmlns=\"http://www.w3.org/2000/svg\"><g transform=\"translate(50.0 50.0)\"><path fill=\"none\" stroke=\"black\" d=\"M 0.0 -25.0 L 0.0 0.0 C 0.0 20.0, 5.0 20.0, 5.0 40.0 A 5.0 5.0 0 0 1 -2.928932188134524 42.928932188134524 A 10.0 10.0 0 1 0 -2.928932188134524 57.071067811865476 A 5.0 5.0 0 0 1 5.0 60.0 C 5.0 80.0, 0.0 80.0, 0.0 100.0 L 0.0 125.0 M 100.0 -25.0 L 100.0 0.0 C 100.0 12.499999999999998, 95.0 12.499999999999998, 95.0 24.999999999999996 A 5.0 5.0 0 0 0 102.92893218813452 27.928932188134524 A 10.0 10.0 0 1 1 102.92893218813452 42.07106781186547 A 5.0 5.0 0 0 0 95.0 44.99999999999999 L 95.0 55.00000000000001 A 5.0 5.0 0 0 0 102.92893218813452 57.92893218813453 A 10.0 10.0 0 1 1 102.92893218813452 72.07106781186548 A 5.0 5.0 0 0 0 95.0 75.0 C 95.0 87.5, 100.0 87.5, 100.0 100.0 L 100.0 125.0 M -25.0 0.0 L 0.0 0.0 C 12.499999999999998 0.0, 12.499999999999998 -5.0, 24.999999999999996 -5.0 A 5.0 5.0 0 0 1 27.928932188134524 2.928932188134524 A 10.0 10.0 0 1 0 42.07106781186547 2.928932188134524 A 5.0 5.0 0 0 1 44.99999999999999 -5.0 C 50.0 -5.0, 50.0 5.0, 55.00000000000001 5.0 A 5.0 5.0 0 0 0 57.92893218813453 -2.928932188134524 A 10.0 10.0 0 1 1 72.07106781186548 -2.928932188134524 A 5.0 5.0 0 0 0 75.0 5.0 C 87.5 5.0, 87.5 0.0, 100.0 0.0 L 125.0 0.0 M -25.0 100.0 L 0.0 100.0 C 20.0 100.0, 20.0 95.0, 40.0 95.0 A 5.0 5.0 0 0 1 42.928932188134524 102.92893218813452 A 10.0 10.0 0 1 0 57.071067811865476 102.92893218813452 A 5.0 5.0 0 0 1 60.0 95.0 C 80.0 95.0, 80.0 100.0, 100.0 100.0 L 125.0 100.0\"/></g></svg><div>"
      ],
      "text/plain": [
       "<IPython.core.display.HTML object>"
      ]
     },
     "execution_count": 8,
     "metadata": {},
     "output_type": "execute_result"
    }
   ],
   "source": [
    "HTML('<div style=\"padding:5em\">' + to_svg(horizontal_edges, vertical_edges, scale=100, margin=0.25) + '<div>')"
   ]
  },
  {
   "cell_type": "code",
   "execution_count": null,
   "id": "bf3793ef",
   "metadata": {},
   "outputs": [],
   "source": [
    "# TODO should we swap the twisted one?"
   ]
  },
  {
   "cell_type": "code",
   "execution_count": null,
   "id": "373ba57f",
   "metadata": {},
   "outputs": [],
   "source": []
  },
  {
   "cell_type": "code",
   "execution_count": 9,
   "id": "056dfa40",
   "metadata": {},
   "outputs": [
    {
     "data": {
      "text/plain": [
       "array([[5, 4]], dtype=uint8)"
      ]
     },
     "execution_count": 9,
     "metadata": {},
     "output_type": "execute_result"
    }
   ],
   "source": [
    "horizontal_edges"
   ]
  },
  {
   "cell_type": "code",
   "execution_count": 10,
   "id": "0822e597",
   "metadata": {},
   "outputs": [],
   "source": [
    "# TODO male/female seems to be swapped, make sure to align everything"
   ]
  },
  {
   "cell_type": "code",
   "execution_count": 11,
   "id": "c649f298",
   "metadata": {},
   "outputs": [
    {
     "name": "stdout",
     "output_type": "stream",
     "text": [
      "1.0 2.0\n",
      "1.4 2.8\n",
      "1.4 2.8\n",
      "1.0 2.0\n"
     ]
    },
    {
     "data": {
      "text/html": [
       "<svg width=\"64\" height=\"64\" xmlns=\"http://www.w3.org/2000/svg\"><g transform=\"translate(16.0 16.0)\"><path fill=\"none\" stroke=\"black\" d=\"M 0.0 0.0 C 0.0 6.4, 1.6 6.4, 1.6 12.8 A 1.0 1.0 0 0 1 -0.9372583002030477 13.737258300203049 A 2.0 2.0 0 1 0 -0.9372583002030477 18.26274169979695 A 1.0 1.0 0 0 1 1.6 19.2 C 1.6 25.6, 0.0 25.6, 0.0 32.0 M 32.0 0.0 C 32.0 5.76, 29.76 5.76, 29.76 11.52 A 1.4 1.4 0 0 0 33.312161620284265 12.832161620284268 A 2.8 2.8 0 1 1 33.312161620284265 19.167838379715732 A 1.4 1.4 0 0 0 29.76 20.48 C 29.76 26.24, 32.0 26.24, 32.0 32.0 M 0.0 0.0 C 5.76 0.0, 5.76 -2.2399999999999998, 11.52 -2.2399999999999998 A 1.4 1.4 0 0 1 12.832161620284268 1.3121616202842672 A 2.8 2.8 0 1 0 19.167838379715732 1.3121616202842672 A 1.4 1.4 0 0 1 20.48 -2.2399999999999998 C 26.24 -2.2399999999999998, 26.24 0.0, 32.0 0.0 M 0.0 32.0 C 6.4 32.0, 6.4 30.4, 12.8 30.4 A 1.0 1.0 0 0 1 13.737258300203049 32.93725830020305 A 2.0 2.0 0 1 0 18.26274169979695 32.93725830020305 A 1.0 1.0 0 0 1 19.2 30.4 C 25.6 30.4, 25.6 32.0, 32.0 32.0\"/></g></svg>"
      ],
      "text/plain": [
       "<IPython.core.display.HTML object>"
      ]
     },
     "execution_count": 11,
     "metadata": {},
     "output_type": "execute_result"
    }
   ],
   "source": [
    "HTML(to_svg(horizontal_edges, vertical_edges))"
   ]
  },
  {
   "cell_type": "code",
   "execution_count": 12,
   "id": "d1e50f26",
   "metadata": {},
   "outputs": [],
   "source": [
    "# TODO SVG renderer"
   ]
  },
  {
   "cell_type": "code",
   "execution_count": null,
   "id": "29c37575",
   "metadata": {},
   "outputs": [],
   "source": []
  }
 ],
 "metadata": {
  "kernelspec": {
   "display_name": "Python 3",
   "language": "python",
   "name": "python3"
  },
  "language_info": {
   "codemirror_mode": {
    "name": "ipython",
    "version": 3
   },
   "file_extension": ".py",
   "mimetype": "text/x-python",
   "name": "python",
   "nbconvert_exporter": "python",
   "pygments_lexer": "ipython3",
   "version": "3.9.0"
  }
 },
 "nbformat": 4,
 "nbformat_minor": 5
}
